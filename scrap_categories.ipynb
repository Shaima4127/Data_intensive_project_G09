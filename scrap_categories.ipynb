{
 "cells": [
  {
   "attachments": {},
   "cell_type": "markdown",
   "metadata": {},
   "source": [
    "- This file is used to scrap all the main_categories & sub categories from the arxiv url and save the result into delta table"
   ]
  },
  {
   "cell_type": "code",
   "execution_count": 1,
   "metadata": {},
   "outputs": [
    {
     "name": "stdout",
     "output_type": "stream",
     "text": [
      ":: loading settings :: url = jar:file:/home/ubuntu/.local/lib/python3.8/site-packages/pyspark/jars/ivy-2.5.1.jar!/org/apache/ivy/core/settings/ivysettings.xml\n"
     ]
    },
    {
     "name": "stderr",
     "output_type": "stream",
     "text": [
      "Ivy Default Cache set to: /home/ubuntu/.ivy2/cache\n",
      "The jars for the packages stored in: /home/ubuntu/.ivy2/jars\n",
      "io.delta#delta-core_2.12 added as a dependency\n",
      ":: resolving dependencies :: org.apache.spark#spark-submit-parent-b3b1a1c0-5916-4db6-98af-f6e73caac0e1;1.0\n",
      "\tconfs: [default]\n",
      "\tfound io.delta#delta-core_2.12;2.3.0 in central\n",
      "\tfound io.delta#delta-storage;2.3.0 in central\n",
      "\tfound org.antlr#antlr4-runtime;4.8 in central\n",
      ":: resolution report :: resolve 204ms :: artifacts dl 10ms\n",
      "\t:: modules in use:\n",
      "\tio.delta#delta-core_2.12;2.3.0 from central in [default]\n",
      "\tio.delta#delta-storage;2.3.0 from central in [default]\n",
      "\torg.antlr#antlr4-runtime;4.8 from central in [default]\n",
      "\t---------------------------------------------------------------------\n",
      "\t|                  |            modules            ||   artifacts   |\n",
      "\t|       conf       | number| search|dwnlded|evicted|| number|dwnlded|\n",
      "\t---------------------------------------------------------------------\n",
      "\t|      default     |   3   |   0   |   0   |   0   ||   3   |   0   |\n",
      "\t---------------------------------------------------------------------\n",
      ":: retrieving :: org.apache.spark#spark-submit-parent-b3b1a1c0-5916-4db6-98af-f6e73caac0e1\n",
      "\tconfs: [default]\n",
      "\t0 artifacts copied, 3 already retrieved (0kB/7ms)\n"
     ]
    },
    {
     "name": "stdout",
     "output_type": "stream",
     "text": [
      "23/04/25 14:10:27 WARN NativeCodeLoader: Unable to load native-hadoop library for your platform... using builtin-java classes where applicable\n"
     ]
    },
    {
     "name": "stderr",
     "output_type": "stream",
     "text": [
      "Setting default log level to \"WARN\".\n",
      "To adjust logging level use sc.setLogLevel(newLevel). For SparkR, use setLogLevel(newLevel).\n"
     ]
    },
    {
     "name": "stdout",
     "output_type": "stream",
     "text": [
      "23/04/25 14:10:29 WARN Utils: Service 'SparkUI' could not bind on port 4040. Attempting port 4041.\n",
      "23/04/25 14:10:31 WARN Client: Neither spark.yarn.jars nor spark.yarn.archive is set, falling back to uploading libraries under SPARK_HOME.\n",
      "23/04/25 14:10:41 WARN Client: Same path resource file:///home/ubuntu/.ivy2/jars/io.delta_delta-core_2.12-2.3.0.jar added multiple times to distributed cache.\n",
      "23/04/25 14:10:41 WARN Client: Same path resource file:///home/ubuntu/.ivy2/jars/io.delta_delta-storage-2.3.0.jar added multiple times to distributed cache.\n",
      "23/04/25 14:10:41 WARN Client: Same path resource file:///home/ubuntu/.ivy2/jars/org.antlr_antlr4-runtime-4.8.jar added multiple times to distributed cache.\n"
     ]
    }
   ],
   "source": [
    "from pyspark.sql import SparkSession\n",
    "import pyspark\n",
    "import requests\n",
    "from bs4 import BeautifulSoup\n",
    "from delta import DeltaTable, configure_spark_with_delta_pip\n",
    "\n",
    "builder = pyspark.sql.SparkSession.builder.appName(\"Scraping_Category\") \\\n",
    "    .master('yarn')\\\n",
    "    .config(\"spark.sql.extensions\", \"io.delta.sql.DeltaSparkSessionExtension\") \\\n",
    "    .config(\"spark.sql.catalog.spark_catalog\", \"org.apache.spark.sql.delta.catalog.DeltaCatalog\")\\\n",
    "    .config('spark.executor.instances', '12') \\\n",
    "    .config(\"spark.executor.memory\", \"1g\") \\\n",
    "    \n",
    "spark = configure_spark_with_delta_pip(builder).getOrCreate()"
   ]
  },
  {
   "cell_type": "code",
   "execution_count": 7,
   "metadata": {},
   "outputs": [
    {
     "name": "stdout",
     "output_type": "stream",
     "text": [
      "Computer Science [('cs.AI', 'Artificial Intelligence'), ('cs.AR', 'Hardware Architecture'), ('cs.CC', 'Computational Complexity'), ('cs.CE', 'Computational Engineering, Finance, and Science'), ('cs.CG', 'Computational Geometry'), ('cs.CL', 'Computation and Language'), ('cs.CR', 'Cryptography and Security'), ('cs.CV', 'Computer Vision and Pattern Recognition'), ('cs.CY', 'Computers and Society'), ('cs.DB', 'Databases'), ('cs.DC', 'Distributed, Parallel, and Cluster Computing'), ('cs.DL', 'Digital Libraries'), ('cs.DM', 'Discrete Mathematics'), ('cs.DS', 'Data Structures and Algorithms'), ('cs.ET', 'Emerging Technologies'), ('cs.FL', 'Formal Languages and Automata Theory'), ('cs.GL', 'General Literature'), ('cs.GR', 'Graphics'), ('cs.GT', 'Computer Science and Game Theory'), ('cs.HC', 'Human-Computer Interaction'), ('cs.IR', 'Information Retrieval'), ('cs.IT', 'Information Theory'), ('cs.LG', 'Machine Learning'), ('cs.LO', 'Logic in Computer Science'), ('cs.MA', 'Multiagent Systems'), ('cs.MM', 'Multimedia'), ('cs.MS', 'Mathematical Software'), ('cs.NA', 'Numerical Analysis'), ('cs.NE', 'Neural and Evolutionary Computing'), ('cs.NI', 'Networking and Internet Architecture'), ('cs.OH', 'Other Computer Science'), ('cs.OS', 'Operating Systems'), ('cs.PF', 'Performance'), ('cs.PL', 'Programming Languages'), ('cs.RO', 'Robotics'), ('cs.SC', 'Symbolic Computation'), ('cs.SD', 'Sound'), ('cs.SE', 'Software Engineering'), ('cs.SI', 'Social and Information Networks'), ('cs.SY', 'Systems and Control')]\n",
      "Economics [('econ.EM', 'Econometrics'), ('econ.GN', 'General Economics'), ('econ.TH', 'Theoretical Economics')]\n",
      "Electrical Engineering and Systems Science [('eess.AS', 'Audio and Speech Processing'), ('eess.IV', 'Image and Video Processing'), ('eess.SP', 'Signal Processing'), ('eess.SY', 'Systems and Control')]\n",
      "Mathematics [('math.AC', 'Commutative Algebra'), ('math.AG', 'Algebraic Geometry'), ('math.AP', 'Analysis of PDEs'), ('math.AT', 'Algebraic Topology'), ('math.CA', 'Classical Analysis and ODEs'), ('math.CO', 'Combinatorics'), ('math.CT', 'Category Theory'), ('math.CV', 'Complex Variables'), ('math.DG', 'Differential Geometry'), ('math.DS', 'Dynamical Systems'), ('math.FA', 'Functional Analysis'), ('math.GM', 'General Mathematics'), ('math.GN', 'General Topology'), ('math.GR', 'Group Theory'), ('math.GT', 'Geometric Topology'), ('math.HO', 'History and Overview'), ('math.IT', 'Information Theory'), ('math.KT', 'K-Theory and Homology'), ('math.LO', 'Logic'), ('math.MG', 'Metric Geometry'), ('math.MP', 'Mathematical Physics'), ('math.NA', 'Numerical Analysis'), ('math.NT', 'Number Theory'), ('math.OA', 'Operator Algebras'), ('math.OC', 'Optimization and Control'), ('math.PR', 'Probability'), ('math.QA', 'Quantum Algebra'), ('math.RA', 'Rings and Algebras'), ('math.RT', 'Representation Theory'), ('math.SG', 'Symplectic Geometry'), ('math.SP', 'Spectral Theory'), ('math.ST', 'Statistics Theory')]\n",
      "Physics [('astro-ph.CO', 'Cosmology and Nongalactic Astrophysics'), ('astro-ph.EP', 'Earth and Planetary Astrophysics'), ('astro-ph.GA', 'Astrophysics of Galaxies'), ('astro-ph.HE', 'High Energy Astrophysical Phenomena'), ('astro-ph.IM', 'Instrumentation and Methods for Astrophysics'), ('astro-ph.SR', 'Solar and Stellar Astrophysics'), ('cond-mat.dis-nn', 'Disordered Systems and Neural Networks'), ('cond-mat.mes-hall', 'Mesoscale and Nanoscale Physics'), ('cond-mat.mtrl-sci', 'Materials Science'), ('cond-mat.other', 'Other Condensed Matter'), ('cond-mat.quant-gas', 'Quantum Gases'), ('cond-mat.soft', 'Soft Condensed Matter'), ('cond-mat.stat-mech', 'Statistical Mechanics'), ('cond-mat.str-el', 'Strongly Correlated Electrons'), ('cond-mat.supr-con', 'Superconductivity'), ('gr-qc', 'General Relativity and Quantum Cosmology'), ('hep-ex', 'High Energy Physics - Experiment'), ('hep-lat', 'High Energy Physics - Lattice'), ('hep-ph', 'High Energy Physics - Phenomenology'), ('hep-th', 'High Energy Physics - Theory'), ('math-ph', 'Mathematical Physics'), ('nlin.AO', 'Adaptation and Self-Organizing Systems'), ('nlin.CD', 'Chaotic Dynamics'), ('nlin.CG', 'Cellular Automata and Lattice Gases'), ('nlin.PS', 'Pattern Formation and Solitons'), ('nlin.SI', 'Exactly Solvable and Integrable Systems'), ('nucl-ex', 'Nuclear Experiment'), ('nucl-th', 'Nuclear Theory'), ('physics.acc-ph', 'Accelerator Physics'), ('physics.ao-ph', 'Atmospheric and Oceanic Physics'), ('physics.app-ph', 'Applied Physics'), ('physics.atm-clus', 'Atomic and Molecular Clusters'), ('physics.atom-ph', 'Atomic Physics'), ('physics.bio-ph', 'Biological Physics'), ('physics.chem-ph', 'Chemical Physics'), ('physics.class-ph', 'Classical Physics'), ('physics.comp-ph', 'Computational Physics'), ('physics.data-an', 'Data Analysis, Statistics and Probability'), ('physics.ed-ph', 'Physics Education'), ('physics.flu-dyn', 'Fluid Dynamics'), ('physics.gen-ph', 'General Physics'), ('physics.geo-ph', 'Geophysics'), ('physics.hist-ph', 'History and Philosophy of Physics'), ('physics.ins-det', 'Instrumentation and Detectors'), ('physics.med-ph', 'Medical Physics'), ('physics.optics', 'Optics'), ('physics.plasm-ph', 'Plasma Physics'), ('physics.pop-ph', 'Popular Physics'), ('physics.soc-ph', 'Physics and Society'), ('physics.space-ph', 'Space Physics'), ('quant-ph', 'Quantum Physics')]\n",
      "Quantitative Biology [('q-bio.BM', 'Biomolecules'), ('q-bio.CB', 'Cell Behavior'), ('q-bio.GN', 'Genomics'), ('q-bio.MN', 'Molecular Networks'), ('q-bio.NC', 'Neurons and Cognition'), ('q-bio.OT', 'Other Quantitative Biology'), ('q-bio.PE', 'Populations and Evolution'), ('q-bio.QM', 'Quantitative Methods'), ('q-bio.SC', 'Subcellular Processes'), ('q-bio.TO', 'Tissues and Organs')]\n",
      "Quantitative Finance [('q-fin.CP', 'Computational Finance'), ('q-fin.EC', 'Economics'), ('q-fin.GN', 'General Finance'), ('q-fin.MF', 'Mathematical Finance'), ('q-fin.PM', 'Portfolio Management'), ('q-fin.PR', 'Pricing of Securities'), ('q-fin.RM', 'Risk Management'), ('q-fin.ST', 'Statistical Finance'), ('q-fin.TR', 'Trading and Market Microstructure')]\n",
      "Statistics [('stat.AP', 'Applications'), ('stat.CO', 'Computation'), ('stat.ME', 'Methodology'), ('stat.ML', 'Machine Learning'), ('stat.OT', 'Other Statistics'), ('stat.TH', 'Statistics Theory')]\n"
     ]
    }
   ],
   "source": [
    "# the content of the category & subcateory in this url\n",
    "url = 'https://arxiv.org/category_taxonomy'\n",
    "response = requests.get(url)\n",
    "\n",
    "soup = BeautifulSoup(response.content, 'html.parser')\n",
    "\n",
    "# Find the main categories section of the page\n",
    "main_category = soup.find_all('h2', {'class': 'accordion-head'})\n",
    "\n",
    "# collect all the main categories int a dictionary\n",
    "category_dict = {category.text: [] for category in main_category}\n",
    "\n",
    "# Add all sub categories into list\n",
    "Sub_categories_list = []\n",
    "for div in soup.find_all('div', class_='columns divided'):\n",
    "    h4 = div.find('h4')\n",
    "    span = h4.find('span')\n",
    "    if span:\n",
    "        span = span.text.strip('()')\n",
    "    sub_category = h4.text.strip().split()[0]\n",
    "    if sub_category == \"Category\":\n",
    "        continue\n",
    "    Sub_categories_list.append((sub_category, span))\n",
    "\n",
    "# Add all sub categories to related main_category\n",
    "for cat in Sub_categories_list:\n",
    "    if cat[0].split('.')[0] == 'cs':\n",
    "        category_dict.get('Computer Science').append(cat)\n",
    "    elif cat[0].split('.')[0] == 'econ':\n",
    "        category_dict.get('Economics').append(cat)\n",
    "    elif cat[0].split('.')[0] == 'eess':\n",
    "        category_dict.get('Electrical Engineering and Systems Science').append(cat)\n",
    "    elif cat[0].split('.')[0] == 'math':\n",
    "        category_dict.get('Mathematics').append(cat)\n",
    "    elif cat[0].split('.')[0] == 'q-bio':\n",
    "        category_dict.get('Quantitative Biology').append(cat) \n",
    "    elif cat[0].split('.')[0] == 'q-fin':\n",
    "        category_dict.get('Quantitative Finance').append(cat)       \n",
    "    elif cat[0].split('.')[0] == 'stat':\n",
    "        category_dict.get('Statistics').append(cat)\n",
    "    else:\n",
    "        category_dict.get('Physics').append(cat)\n",
    "\n",
    "# prepare creating a new dataframe for the category from a list of tuples which contains the candidates values\n",
    "category_tuples = []\n",
    "for main, subList in category_dict.items():\n",
    "    print(main, subList)\n",
    "    for sub in subList:    \n",
    "        category_tuples.append((main, sub[0], sub[1]))\n",
    "\n",
    "\n",
    "    \n"
   ]
  },
  {
   "cell_type": "code",
   "execution_count": 8,
   "metadata": {},
   "outputs": [],
   "source": [
    "category_df = spark.createDataFrame(category_tuples, [\"main_category\", \"sub_category\", \"description\"])"
   ]
  },
  {
   "cell_type": "code",
   "execution_count": 12,
   "metadata": {},
   "outputs": [
    {
     "name": "stdout",
     "output_type": "stream",
     "text": [
      "+----------------+------------+--------------------+\n",
      "|   main_category|sub_category|         description|\n",
      "+----------------+------------+--------------------+\n",
      "|Computer Science|       cs.AI|Artificial Intell...|\n",
      "|Computer Science|       cs.AR|Hardware Architec...|\n",
      "|Computer Science|       cs.CC|Computational Com...|\n",
      "+----------------+------------+--------------------+\n",
      "only showing top 3 rows\n",
      "\n"
     ]
    }
   ],
   "source": [
    "category_df.show(3)"
   ]
  },
  {
   "attachments": {},
   "cell_type": "markdown",
   "metadata": {},
   "source": [
    "- update the main category that = 'Electrical Engineering and Systems Science' to take short name \"Electrical Engineering\""
   ]
  },
  {
   "cell_type": "code",
   "execution_count": 13,
   "metadata": {},
   "outputs": [],
   "source": [
    "from pyspark.sql.functions import when, col\n",
    "\n",
    "category_df = category_df.withColumn(\"main_category\",\n",
    "                   when(category_df.main_category == \"Electrical Engineering and Systems Science\", \"Electrical Engineering\")\n",
    "                   .otherwise(category_df.main_category))\n",
    "    "
   ]
  },
  {
   "cell_type": "code",
   "execution_count": 17,
   "metadata": {},
   "outputs": [
    {
     "name": "stdout",
     "output_type": "stream",
     "text": [
      "+----------------------+------------+---------------------------+\n",
      "|main_category         |sub_category|description                |\n",
      "+----------------------+------------+---------------------------+\n",
      "|Electrical Engineering|eess.AS     |Audio and Speech Processing|\n",
      "|Electrical Engineering|eess.IV     |Image and Video Processing |\n",
      "|Electrical Engineering|eess.SP     |Signal Processing          |\n",
      "+----------------------+------------+---------------------------+\n",
      "only showing top 3 rows\n",
      "\n"
     ]
    }
   ],
   "source": [
    "category_df.filter(col(\"main_category\")== \"Electrical Engineering\").show(3, False)"
   ]
  },
  {
   "cell_type": "code",
   "execution_count": 18,
   "metadata": {},
   "outputs": [
    {
     "name": "stdout",
     "output_type": "stream",
     "text": [
      "save category data\n"
     ]
    },
    {
     "name": "stderr",
     "output_type": "stream",
     "text": [
      "                                                                                \r"
     ]
    },
    {
     "name": "stdout",
     "output_type": "stream",
     "text": [
      "23/04/25 14:29:54 WARN package: Truncated the string representation of a plan since it was too large. This behavior can be adjusted by setting 'spark.sql.debug.maxToStringFields'.\n"
     ]
    },
    {
     "name": "stderr",
     "output_type": "stream",
     "text": [
      "                                                                                \r"
     ]
    }
   ],
   "source": [
    "# save category data into delta table\n",
    "#=====================================================================\n",
    "delta_category_file = \"hdfs:///Dat500_Group09/spark_result/category\"\n",
    "if not DeltaTable.isDeltaTable(spark, delta_category_file):\n",
    "    print(\"save category data\")      \n",
    "    category_df.write.format(\"delta\").save(delta_category_file)\n"
   ]
  },
  {
   "cell_type": "code",
   "execution_count": 19,
   "metadata": {},
   "outputs": [
    {
     "name": "stderr",
     "output_type": "stream",
     "text": [
      "                                                                                \r"
     ]
    },
    {
     "data": {
      "text/plain": [
       "155"
      ]
     },
     "execution_count": 19,
     "metadata": {},
     "output_type": "execute_result"
    }
   ],
   "source": [
    "# To check that dataframe is saved\n",
    "df = spark.read.format(\"delta\").load(delta_category_file)\n",
    "df.count()"
   ]
  },
  {
   "cell_type": "code",
   "execution_count": 20,
   "metadata": {},
   "outputs": [
    {
     "name": "stderr",
     "output_type": "stream",
     "text": [
      "                                                                                \r"
     ]
    },
    {
     "name": "stdout",
     "output_type": "stream",
     "text": [
      "+----------------+------------+--------------------+\n",
      "|   main_category|sub_category|         description|\n",
      "+----------------+------------+--------------------+\n",
      "|     Mathematics|     math.OA|   Operator Algebras|\n",
      "|     Mathematics|     math.OC|Optimization and ...|\n",
      "|     Mathematics|     math.PR|         Probability|\n",
      "|     Mathematics|     math.QA|     Quantum Algebra|\n",
      "|     Mathematics|     math.RA|  Rings and Algebras|\n",
      "|     Mathematics|     math.RT|Representation Th...|\n",
      "|     Mathematics|     math.SG| Symplectic Geometry|\n",
      "|     Mathematics|     math.SP|     Spectral Theory|\n",
      "|     Mathematics|     math.ST|   Statistics Theory|\n",
      "|         Physics| astro-ph.CO|Cosmology and Non...|\n",
      "|         Physics| astro-ph.EP|Earth and Planeta...|\n",
      "|         Physics| astro-ph.GA|Astrophysics of G...|\n",
      "|         Physics| astro-ph.HE|High Energy Astro...|\n",
      "|         Physics| astro-ph.IM|Instrumentation a...|\n",
      "|Computer Science|       cs.NE|Neural and Evolut...|\n",
      "|Computer Science|       cs.NI|Networking and In...|\n",
      "|Computer Science|       cs.OH|Other Computer Sc...|\n",
      "|Computer Science|       cs.OS|   Operating Systems|\n",
      "|Computer Science|       cs.PF|         Performance|\n",
      "|Computer Science|       cs.PL|Programming Langu...|\n",
      "+----------------+------------+--------------------+\n",
      "only showing top 20 rows\n",
      "\n"
     ]
    }
   ],
   "source": [
    "df.show()"
   ]
  }
 ],
 "metadata": {
  "kernelspec": {
   "display_name": "Python 3",
   "language": "python",
   "name": "python3"
  },
  "language_info": {
   "codemirror_mode": {
    "name": "ipython",
    "version": 3
   },
   "file_extension": ".py",
   "mimetype": "text/x-python",
   "name": "python",
   "nbconvert_exporter": "python",
   "pygments_lexer": "ipython3",
   "version": "3.8.10"
  },
  "orig_nbformat": 4,
  "vscode": {
   "interpreter": {
    "hash": "916dbcbb3f70747c44a77c7bcd40155683ae19c65e1c03b4aa3499c5328201f1"
   }
  }
 },
 "nbformat": 4,
 "nbformat_minor": 2
}
